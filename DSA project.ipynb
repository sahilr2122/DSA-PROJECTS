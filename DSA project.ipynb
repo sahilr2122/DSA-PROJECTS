{
 "cells": [
  {
   "cell_type": "code",
   "execution_count": 5,
   "id": "af500c61",
   "metadata": {},
   "outputs": [
    {
     "name": "stdout",
     "output_type": "stream",
     "text": [
      "Graph connections: {'Alice': ['Bob', 'Charlie'], 'Bob': ['Alice', 'David'], 'Charlie': ['Alice', 'Emma'], 'David': ['Bob', 'Frank'], 'Emma': ['Charlie', 'George'], 'Frank': ['David'], 'George': ['Emma']}\n",
      "User -> Alice, Direct Friends -> {'Charlie', 'Bob'}\n",
      "Friend suggestions for Alice: {'Emma', 'David'}\n"
     ]
    }
   ],
   "source": [
    "from collections import deque, defaultdict\n",
    "\n",
    "# Social media graph where users are nodes and friendships are edges\n",
    "class SocialMediaGraph:\n",
    "    def __init__(self):\n",
    "        # Use defaultdict to automatically create lists for each user node\n",
    "        self.graph = defaultdict(list)\n",
    "\n",
    "    # Add a friendship (edge) between two users\n",
    "    def add_friendship(self, user1, user2):\n",
    "        self.graph[user1].append(user2)\n",
    "        self.graph[user2].append(user1)  # Assuming undirected graph (mutual friendship)\n",
    "\n",
    "    # Breadth-First Search for friend suggestion\n",
    "    def friend_suggestions(self, user):\n",
    "        visited = set()  # Track visited nodes\n",
    "        queue = deque([user])  # Queue for BFS starting from the given user\n",
    "        suggestions = set()  # Store friend suggestions\n",
    "\n",
    "        # Mark the user and their direct friends as visited\n",
    "        visited.add(user)\n",
    "        \n",
    "        # Get the direct friends (first-degree connections) of the user\n",
    "        direct_friends = set(self.graph[user])\n",
    "        visited.update(direct_friends)\n",
    "\n",
    "        # Debugging output\n",
    "        print(f\"User -> {user}, Direct Friends -> {direct_friends}\")\n",
    "\n",
    "        # BFS: Find second-degree friends\n",
    "        for friend in direct_friends:\n",
    "            # Explore friends of friends\n",
    "            for friend_of_friend in self.graph[friend]:\n",
    "                if friend_of_friend not in visited:\n",
    "                    suggestions.add(friend_of_friend)\n",
    "        \n",
    "        return suggestions\n",
    "\n",
    "# Testing the BFS-based friend suggestion system\n",
    "if __name__ == \"__main__\":\n",
    "    # Create a new social media graph\n",
    "    smg = SocialMediaGraph()\n",
    "\n",
    "    # Add friendships\n",
    "    smg.add_friendship(\"Alice\", \"Bob\")\n",
    "    smg.add_friendship(\"Alice\", \"Charlie\")\n",
    "    smg.add_friendship(\"Bob\", \"David\")\n",
    "    smg.add_friendship(\"Charlie\", \"Emma\")\n",
    "    smg.add_friendship(\"David\", \"Frank\")\n",
    "    smg.add_friendship(\"Emma\", \"George\")\n",
    "\n",
    "    # Debugging: print the graph structure\n",
    "    print(\"Graph connections:\", dict(smg.graph))\n",
    "\n",
    "    # Example: Find friend suggestions for Alice\n",
    "    suggestions = smg.friend_suggestions(\"Alice\")\n",
    "    print(\"Friend suggestions for Alice:\", suggestions)\n"
   ]
  },
  {
   "cell_type": "code",
   "execution_count": null,
   "id": "521e43a3",
   "metadata": {},
   "outputs": [],
   "source": []
  }
 ],
 "metadata": {
  "kernelspec": {
   "display_name": "Python 3 (ipykernel)",
   "language": "python",
   "name": "python3"
  },
  "language_info": {
   "codemirror_mode": {
    "name": "ipython",
    "version": 3
   },
   "file_extension": ".py",
   "mimetype": "text/x-python",
   "name": "python",
   "nbconvert_exporter": "python",
   "pygments_lexer": "ipython3",
   "version": "3.9.13"
  }
 },
 "nbformat": 4,
 "nbformat_minor": 5
}
